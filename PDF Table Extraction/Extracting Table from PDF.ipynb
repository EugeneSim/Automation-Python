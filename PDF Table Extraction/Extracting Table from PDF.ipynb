{
 "cells": [
  {
   "cell_type": "code",
   "execution_count": null,
   "id": "5c0cff9b",
   "metadata": {},
   "outputs": [],
   "source": [
    "import camelot as cm"
   ]
  },
  {
   "cell_type": "code",
   "execution_count": null,
   "id": "6282d65c",
   "metadata": {},
   "outputs": [],
   "source": [
    "! ls"
   ]
  },
  {
   "cell_type": "code",
   "execution_count": null,
   "id": "d727ef79",
   "metadata": {},
   "outputs": [],
   "source": [
    "input_pdf = cm.read_pdf(\"india_factsheet_economic_n_hdi.pdf\",flavor='lattice',pages='1,2')\n"
   ]
  },
  {
   "cell_type": "code",
   "execution_count": null,
   "id": "53de4bf1",
   "metadata": {},
   "outputs": [],
   "source": [
    "#\"stream\", \"lattice\"\n"
   ]
  },
  {
   "cell_type": "code",
   "execution_count": null,
   "id": "c960421e",
   "metadata": {},
   "outputs": [],
   "source": [
    "input_pdf\n"
   ]
  },
  {
   "cell_type": "code",
   "execution_count": null,
   "id": "2f97f344",
   "metadata": {},
   "outputs": [],
   "source": [
    "for n in input_pdf:\n",
    "    print(n)"
   ]
  },
  {
   "cell_type": "code",
   "execution_count": null,
   "id": "059d2fca",
   "metadata": {},
   "outputs": [],
   "source": [
    "input_pdf[2].df\n"
   ]
  },
  {
   "cell_type": "code",
   "execution_count": null,
   "id": "e2ec4891",
   "metadata": {},
   "outputs": [],
   "source": [
    "df = input_pdf[2].df.loc[11:14,1:3]\n"
   ]
  },
  {
   "cell_type": "code",
   "execution_count": null,
   "id": "1b3f4a8c",
   "metadata": {},
   "outputs": [],
   "source": [
    "df\n"
   ]
  },
  {
   "cell_type": "code",
   "execution_count": null,
   "id": "ef09373b",
   "metadata": {},
   "outputs": [],
   "source": [
    "df = df.reset_index(drop = True)\n"
   ]
  },
  {
   "cell_type": "code",
   "execution_count": null,
   "id": "75827bae",
   "metadata": {},
   "outputs": [],
   "source": [
    "df\n"
   ]
  },
  {
   "cell_type": "code",
   "execution_count": null,
   "id": "c688f4ec",
   "metadata": {},
   "outputs": [],
   "source": [
    "df.columns = [\"KPI\",\"2001\",\"2011\"]\n"
   ]
  },
  {
   "cell_type": "code",
   "execution_count": null,
   "id": "2c7d30f6",
   "metadata": {},
   "outputs": [],
   "source": [
    "df\n"
   ]
  },
  {
   "cell_type": "code",
   "execution_count": null,
   "id": "47d31132",
   "metadata": {},
   "outputs": [],
   "source": [
    "df.loc[:,[\"2001\",\"2011\"]] = df.loc[:,[\"2001\",\"2011\"]].astype(float)\n"
   ]
  },
  {
   "cell_type": "code",
   "execution_count": null,
   "id": "e18a5e85",
   "metadata": {},
   "outputs": [],
   "source": [
    "df\n"
   ]
  },
  {
   "cell_type": "code",
   "execution_count": null,
   "id": "30ccab98",
   "metadata": {},
   "outputs": [],
   "source": [
    "df.to_csv(\"packt_output.csv\")\n"
   ]
  },
  {
   "cell_type": "code",
   "execution_count": null,
   "id": "3648a95e",
   "metadata": {},
   "outputs": [],
   "source": [
    "! ls\n"
   ]
  },
  {
   "cell_type": "code",
   "execution_count": null,
   "id": "f5835695",
   "metadata": {},
   "outputs": [],
   "source": [
    "df.to_excel(\"packt_output_excel.xlsx\")\n"
   ]
  },
  {
   "cell_type": "code",
   "execution_count": null,
   "id": "83ebf6d3",
   "metadata": {},
   "outputs": [],
   "source": [
    "!ls\n"
   ]
  },
  {
   "cell_type": "code",
   "execution_count": null,
   "id": "a27a98c7",
   "metadata": {},
   "outputs": [],
   "source": [
    "import pandas as pd\n"
   ]
  },
  {
   "cell_type": "code",
   "execution_count": null,
   "id": "9ded6d7d",
   "metadata": {},
   "outputs": [],
   "source": [
    "df2 = pd.read_csv(\"packt_output.csv\")\n",
    "df2"
   ]
  },
  {
   "cell_type": "code",
   "execution_count": null,
   "id": "84cc636c",
   "metadata": {},
   "outputs": [],
   "source": [
    "import seaborn as sns\n"
   ]
  },
  {
   "cell_type": "code",
   "execution_count": null,
   "id": "64216023",
   "metadata": {},
   "outputs": [],
   "source": [
    "df_melted = df.melt('KPI', var_name='year', value_name='percentage')\n"
   ]
  },
  {
   "cell_type": "code",
   "execution_count": null,
   "id": "de50a1b1",
   "metadata": {},
   "outputs": [],
   "source": [
    "df_melted\n"
   ]
  },
  {
   "cell_type": "code",
   "execution_count": null,
   "id": "7e1019ce",
   "metadata": {},
   "outputs": [],
   "source": [
    "sns.barplot(x = \"KPI\", y = \"percentage\", hue = \"year\", data = df_melted);\n"
   ]
  },
  {
   "cell_type": "code",
   "execution_count": null,
   "id": "c02b9b15",
   "metadata": {},
   "outputs": [],
   "source": []
  },
  {
   "cell_type": "code",
   "execution_count": null,
   "id": "27051c14",
   "metadata": {},
   "outputs": [],
   "source": []
  },
  {
   "cell_type": "code",
   "execution_count": null,
   "id": "60f6c7f5",
   "metadata": {},
   "outputs": [],
   "source": []
  }
 ],
 "metadata": {
  "kernelspec": {
   "display_name": "Python 3 (ipykernel)",
   "language": "python",
   "name": "python3"
  },
  "language_info": {
   "codemirror_mode": {
    "name": "ipython",
    "version": 3
   },
   "file_extension": ".py",
   "mimetype": "text/x-python",
   "name": "python",
   "nbconvert_exporter": "python",
   "pygments_lexer": "ipython3",
   "version": "3.9.12"
  }
 },
 "nbformat": 4,
 "nbformat_minor": 5
}
