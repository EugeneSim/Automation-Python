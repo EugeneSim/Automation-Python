{
 "cells": [
  {
   "cell_type": "code",
   "execution_count": 1,
   "id": "5c0cff9b",
   "metadata": {},
   "outputs": [],
   "source": [
    "import camelot as cm"
   ]
  },
  {
   "cell_type": "code",
   "execution_count": 2,
   "id": "6282d65c",
   "metadata": {},
   "outputs": [
    {
     "name": "stdout",
     "output_type": "stream",
     "text": [
      "3D Objects\n",
      "AppData\n",
      "Apple\n",
      "Application Data\n",
      "Binary Search.ipynb\n",
      "Contacts\n",
      "Cookies\n",
      "Desktop\n",
      "Documents\n",
      "Downloads\n",
      "Dropbox\n",
      "EdgeworthBinomialOptions.ipynb\n",
      "Extracting Table from PDF.ipynb\n",
      "Favorites\n",
      "Find the month.ipynb\n",
      "Guess the number 2.ipynb\n",
      "Guess the number.ipynb\n",
      "Hangman.ipynb\n",
      "Links\n",
      "Local Settings\n",
      "MicrosoftEdgeBackups\n",
      "Minesweeper.ipynb\n",
      "Music\n",
      "My Documents\n",
      "NTUSER.DAT\n",
      "NTUSER.DAT{f785297f-946c-11eb-b1ec-b1c4caf2cbac}.TM.blf\n",
      "NTUSER.DAT{f785297f-946c-11eb-b1ec-b1c4caf2cbac}.TMContainer00000000000000000001.regtrans-ms\n",
      "NTUSER.DAT{f785297f-946c-11eb-b1ec-b1c4caf2cbac}.TMContainer00000000000000000002.regtrans-ms\n",
      "NetHood\n",
      "NumPy Tutorial (general).ipynb\n",
      "OneDrive\n",
      "OpenBB\n",
      "OpenBBUserData\n",
      "Pictures\n",
      "PrintHood\n",
      "Project\n",
      "PycharmProjects\n",
      "Recent\n",
      "Rock Paper Scissors.ipynb\n",
      "Saved Games\n",
      "Searches\n",
      "SendTo\n",
      "Simple Calculator.ipynb\n",
      "Start Menu\n",
      "Templates\n",
      "The 46-Page Ultimate Guide to Pricing Options and Implied Volatility With Python (PDF + code).ipynb\n",
      "Untitled.ipynb\n",
      "Untitled1.ipynb\n",
      "Untitled2.ipynb\n",
      "Videos\n",
      "__pycache__\n",
      "anaconda3\n",
      "ansel\n",
      "game.ipynb\n",
      "git\n",
      "githubkey\n",
      "githubkey.pub\n",
      "hwid\n",
      "iCloudPhotos\n",
      "india_factsheet_economic_n_hdi.pdf\n",
      "madlib.ipynb\n",
      "ntuser.dat.LOG1\n",
      "ntuser.dat.LOG2\n",
      "ntuser.ini\n",
      "options_frame.pickle\n",
      "players.ipynb\n",
      "sudoku.ipynb\n",
      "untitled.txt\n",
      "words.ipynb\n",
      "words.py\n"
     ]
    }
   ],
   "source": [
    "! ls"
   ]
  },
  {
   "cell_type": "code",
   "execution_count": 4,
   "id": "d727ef79",
   "metadata": {},
   "outputs": [
    {
     "ename": "AttributeError",
     "evalue": "module 'camelot' has no attribute 'open'",
     "output_type": "error",
     "traceback": [
      "\u001b[1;31m---------------------------------------------------------------------------\u001b[0m",
      "\u001b[1;31mAttributeError\u001b[0m                            Traceback (most recent call last)",
      "Input \u001b[1;32mIn [4]\u001b[0m, in \u001b[0;36m<cell line: 1>\u001b[1;34m()\u001b[0m\n\u001b[1;32m----> 1\u001b[0m input_pdf \u001b[38;5;241m=\u001b[39m \u001b[43mcm\u001b[49m\u001b[38;5;241;43m.\u001b[39;49m\u001b[43mopen\u001b[49m(\u001b[38;5;124m\"\u001b[39m\u001b[38;5;124mindia_factsheet_economic_n_hdi.pdf\u001b[39m\u001b[38;5;124m\"\u001b[39m,flavor\u001b[38;5;241m=\u001b[39m\u001b[38;5;124m'\u001b[39m\u001b[38;5;124mlattice\u001b[39m\u001b[38;5;124m'\u001b[39m,pages\u001b[38;5;241m=\u001b[39m\u001b[38;5;124m'\u001b[39m\u001b[38;5;124m1,2\u001b[39m\u001b[38;5;124m'\u001b[39m)\n",
      "\u001b[1;31mAttributeError\u001b[0m: module 'camelot' has no attribute 'open'"
     ]
    }
   ],
   "source": [
    "input_pdf = cm.open(\"india_factsheet_economic_n_hdi.pdf\",flavor='lattice',pages='1,2')\n"
   ]
  },
  {
   "cell_type": "code",
   "execution_count": null,
   "id": "53de4bf1",
   "metadata": {},
   "outputs": [],
   "source": [
    "#\"stream\", \"lattice\"\n"
   ]
  },
  {
   "cell_type": "code",
   "execution_count": null,
   "id": "c960421e",
   "metadata": {},
   "outputs": [],
   "source": [
    "input_pdf\n"
   ]
  },
  {
   "cell_type": "code",
   "execution_count": null,
   "id": "2f97f344",
   "metadata": {},
   "outputs": [],
   "source": [
    "for n in input_pdf:\n",
    "    print(n)"
   ]
  },
  {
   "cell_type": "code",
   "execution_count": null,
   "id": "059d2fca",
   "metadata": {},
   "outputs": [],
   "source": [
    "input_pdf[2].df\n"
   ]
  },
  {
   "cell_type": "code",
   "execution_count": null,
   "id": "e2ec4891",
   "metadata": {},
   "outputs": [],
   "source": [
    "df = input_pdf[2].df.loc[11:14,1:3]\n"
   ]
  },
  {
   "cell_type": "code",
   "execution_count": null,
   "id": "1b3f4a8c",
   "metadata": {},
   "outputs": [],
   "source": [
    "df\n"
   ]
  },
  {
   "cell_type": "code",
   "execution_count": null,
   "id": "ef09373b",
   "metadata": {},
   "outputs": [],
   "source": [
    "df = df.reset_index(drop = True)\n"
   ]
  },
  {
   "cell_type": "code",
   "execution_count": null,
   "id": "75827bae",
   "metadata": {},
   "outputs": [],
   "source": [
    "df\n"
   ]
  },
  {
   "cell_type": "code",
   "execution_count": null,
   "id": "c688f4ec",
   "metadata": {},
   "outputs": [],
   "source": [
    "df.columns = [\"KPI\",\"2001\",\"2011\"]\n"
   ]
  },
  {
   "cell_type": "code",
   "execution_count": null,
   "id": "2c7d30f6",
   "metadata": {},
   "outputs": [],
   "source": [
    "df\n"
   ]
  },
  {
   "cell_type": "code",
   "execution_count": null,
   "id": "47d31132",
   "metadata": {},
   "outputs": [],
   "source": [
    "df.loc[:,[\"2001\",\"2011\"]] = df.loc[:,[\"2001\",\"2011\"]].astype(float)\n"
   ]
  },
  {
   "cell_type": "code",
   "execution_count": null,
   "id": "e18a5e85",
   "metadata": {},
   "outputs": [],
   "source": [
    "df\n"
   ]
  },
  {
   "cell_type": "code",
   "execution_count": null,
   "id": "30ccab98",
   "metadata": {},
   "outputs": [],
   "source": [
    "df.to_csv(\"packt_output.csv\")\n"
   ]
  },
  {
   "cell_type": "code",
   "execution_count": null,
   "id": "3648a95e",
   "metadata": {},
   "outputs": [],
   "source": [
    "! ls\n"
   ]
  },
  {
   "cell_type": "code",
   "execution_count": null,
   "id": "f5835695",
   "metadata": {},
   "outputs": [],
   "source": [
    "df.to_excel(\"packt_output_excel.xlsx\")\n"
   ]
  },
  {
   "cell_type": "code",
   "execution_count": null,
   "id": "83ebf6d3",
   "metadata": {},
   "outputs": [],
   "source": [
    "!ls\n"
   ]
  },
  {
   "cell_type": "code",
   "execution_count": null,
   "id": "a27a98c7",
   "metadata": {},
   "outputs": [],
   "source": [
    "import pandas as pd\n"
   ]
  },
  {
   "cell_type": "code",
   "execution_count": null,
   "id": "9ded6d7d",
   "metadata": {},
   "outputs": [],
   "source": [
    "df2 = pd.read_csv(\"packt_output.csv\")\n",
    "df2"
   ]
  },
  {
   "cell_type": "code",
   "execution_count": null,
   "id": "84cc636c",
   "metadata": {},
   "outputs": [],
   "source": [
    "import seaborn as sns\n"
   ]
  },
  {
   "cell_type": "code",
   "execution_count": null,
   "id": "64216023",
   "metadata": {},
   "outputs": [],
   "source": [
    "df_melted = df.melt('KPI', var_name='year', value_name='percentage')\n"
   ]
  },
  {
   "cell_type": "code",
   "execution_count": null,
   "id": "de50a1b1",
   "metadata": {},
   "outputs": [],
   "source": [
    "df_melted\n"
   ]
  },
  {
   "cell_type": "code",
   "execution_count": null,
   "id": "7e1019ce",
   "metadata": {},
   "outputs": [],
   "source": [
    "sns.barplot(x = \"KPI\", y = \"percentage\", hue = \"year\", data = df_melted);\n"
   ]
  },
  {
   "cell_type": "code",
   "execution_count": null,
   "id": "c02b9b15",
   "metadata": {},
   "outputs": [],
   "source": []
  },
  {
   "cell_type": "code",
   "execution_count": null,
   "id": "27051c14",
   "metadata": {},
   "outputs": [],
   "source": []
  },
  {
   "cell_type": "code",
   "execution_count": null,
   "id": "60f6c7f5",
   "metadata": {},
   "outputs": [],
   "source": []
  }
 ],
 "metadata": {
  "kernelspec": {
   "display_name": "Python 3 (ipykernel)",
   "language": "python",
   "name": "python3"
  },
  "language_info": {
   "codemirror_mode": {
    "name": "ipython",
    "version": 3
   },
   "file_extension": ".py",
   "mimetype": "text/x-python",
   "name": "python",
   "nbconvert_exporter": "python",
   "pygments_lexer": "ipython3",
   "version": "3.9.12"
  }
 },
 "nbformat": 4,
 "nbformat_minor": 5
}
